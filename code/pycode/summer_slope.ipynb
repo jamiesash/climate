{
 "cells": [
  {
   "cell_type": "code",
   "execution_count": 1,
   "metadata": {},
   "outputs": [],
   "source": [
    "import numpy as np\n",
    "import netCDF4 as nc"
   ]
  },
  {
   "cell_type": "code",
   "execution_count": 2,
   "metadata": {},
   "outputs": [],
   "source": [
    "# Global Ocean Colour (Copernicus-GlobColour), Bio-Geo-Chemical, L4 (monthly and interpolated) from Satellite Observations (Near Real Time)\n",
    "# file_id = nc.Dataset('/home/jamie/projects/climate/data/chl/chl_1998_2023_l4_month_multi_4k.nc')\n",
    "file_id = nc.Dataset('/home/jamie/projects/climate/data/chl/derived/chla_stl_mon_20241226.nc')\n",
    "ras = file_id.variables[\"CHL\"][:]\n",
    "time = file_id.variables[\"time\"][:]\n",
    "lat = file_id.variables[\"latitude\"][:]\n",
    "lon = file_id.variables[\"longitude\"][:]\n",
    "time_units = file_id.variables[\"time\"].units\n",
    "file_id.close()\n",
    "\n",
    "# I did not save the calander type when creating the nc file. Pulling it from original data. \n",
    "file_id = nc.Dataset('/home/jamie/projects/climate/data/chl/chl_1998_2023_l4_month_multi_4k.nc')\n",
    "time_calendar = file_id.variables[\"time\"].calendar\n",
    "file_id.close()"
   ]
  },
  {
   "cell_type": "code",
   "execution_count": 3,
   "metadata": {},
   "outputs": [
    {
     "name": "stdout",
     "output_type": "stream",
     "text": [
      "Shape of the subset array: (311, 576, 104)\n"
     ]
    }
   ],
   "source": [
    "# Convert time to a readable datetime format\n",
    "dates = nc.num2date(time, units=time_units, calendar=time_calendar)\n",
    "# Extract indices for August to November\n",
    "subset_indices = [i for i, date in enumerate(dates) if 8 <= date.month <= 11]\n",
    "# Subset the CHL array for these months\n",
    "chl_subset = ras[:, :, subset_indices]\n",
    "# print(f\"Shape of the subset array: {chl_subset.shape}\")"
   ]
  },
  {
   "cell_type": "code",
   "execution_count": null,
   "metadata": {},
   "outputs": [],
   "source": []
  },
  {
   "cell_type": "code",
   "execution_count": null,
   "metadata": {},
   "outputs": [],
   "source": []
  }
 ],
 "metadata": {
  "kernelspec": {
   "display_name": "Python 3",
   "language": "python",
   "name": "python3"
  },
  "language_info": {
   "codemirror_mode": {
    "name": "ipython",
    "version": 3
   },
   "file_extension": ".py",
   "mimetype": "text/x-python",
   "name": "python",
   "nbconvert_exporter": "python",
   "pygments_lexer": "ipython3",
   "version": "3.9.13"
  }
 },
 "nbformat": 4,
 "nbformat_minor": 2
}
