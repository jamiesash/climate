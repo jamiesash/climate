{
 "cells": [
  {
   "cell_type": "code",
   "execution_count": null,
   "metadata": {},
   "outputs": [],
   "source": [
    "from scipy.stats import linregress\n",
    "import numpy as np\n",
    "import netCDF4 as nc\n",
    "import pandas as pd\n",
    "from statsmodels.tsa.seasonal import STL\n",
    "\n",
    "# Global Ocean Colour (Copernicus-GlobColour), Bio-Geo-Chemical, L4 (monthly and interpolated) from Satellite Observations (Near Real Time)\n",
    "file_id = nc.Dataset('/home/jamie/projects/climate/data/chl/chl_1998_2023_l4_month_multi_4k.nc')\n",
    "ras = file_id.variables[\"CHL\"][:]\n",
    "time = file_id.variables[\"time\"][:]\n",
    "lat = file_id.variables[\"latitude\"][:]\n",
    "lon = file_id.variables[\"longitude\"][:]\n",
    "file_id.close()\n",
    "\n",
    "# Initialize arrays to hold the slopes and p-values for the seascli component\n",
    "seascli_slopes = np.zeros((ras.shape[1], ras.shape[2]))\n",
    "seascli_p_values = np.ones((ras.shape[1], ras.shape[2]))"
   ]
  },
  {
   "cell_type": "code",
   "execution_count": null,
   "metadata": {},
   "outputs": [],
   "source": [
    "ts = ras[:, i, j]\n",
    "  \n",
    "# Skip cells with all NaN values\n",
    "if np.all(np.isnan(ts)):\n",
    "    seascli_slopes[i, j] = np.nan\n",
    "    seascli_p_values[i, j] = np.nan\n",
    "    continue\n",
    "        \n",
    "# Convert to pandas Series\n",
    "pix = pd.Series(ts, index=pd.date_range(\"1-1-1998\", periods=len(ts), freq=\"M\"), name=\"chl\")\n",
    "# Apply STL decomposition\n",
    "stl = STL(pix, seasonal=13, robust=True)\n",
    "fit = stl.fit()\n",
    "        \n",
    "# Compute the seascli component: trend + residual\n",
    "trend = fit.trend #.dropna()  # Extract trend component\n",
    "residual = fit.resid #.dropna()  # Extract residual (anomaly) component"
   ]
  },
  {
   "cell_type": "code",
   "execution_count": null,
   "metadata": {},
   "outputs": [],
   "source": [
    "\n",
    "# Perform linear regression for the seascli component of each (lat, lon) cell\n",
    "for i in range(ras.shape[1]):  # Loop over rows (latitude)\n",
    "    for j in range(ras.shape[2]):  # Loop over columns (longitude)\n",
    "        # Extract time series for the (i, j) cell\n",
    "        ts = ras[:, i, j]\n",
    "        \n",
    "        # Skip cells with all NaN values\n",
    "        if np.all(np.isnan(ts)):\n",
    "            seascli_slopes[i, j] = np.nan\n",
    "            seascli_p_values[i, j] = np.nan\n",
    "            continue\n",
    "        \n",
    "        # Convert to pandas Series\n",
    "        pix = pd.Series(ts, index=pd.date_range(\"1-1-1998\", periods=len(ts), freq=\"M\"), name=\"chl\")\n",
    "\n",
    "        # Apply STL decomposition\n",
    "        stl = STL(pix, seasonal=13, robust=True)\n",
    "        fit = stl.fit()\n",
    "        \n",
    "        # Compute the seascli component: trend + residual\n",
    "        trend = fit.trend #.dropna()  # Extract trend component\n",
    "        residual = fit.resid #.dropna()  # Extract residual (anomaly) component\n",
    "        \n",
    "        # Ensure both components align in time\n",
    "        # common_index = trend.index.intersection(residual.index)\n",
    "        # seascli = trend.loc[common_index] + residual.loc[common_index]\n",
    "        seascli = trend + residual\n",
    "        \n",
    "        # Perform linear regression on the seascli component\n",
    "        # x = (seascli.index - seascli.index[0]).days  # Time in days as the independent variable\n",
    "        x = seascli.index  # Time in days as the independent variable\n",
    "        y = seascli.values\n",
    "        \n",
    "        # Compute slope and p-value using linregress\n",
    "        slope, _, _, p_value, _ = linregress(x, y)\n",
    "        seascli_slopes[i, j] = slope  # Store the slope\n",
    "        seascli_p_values[i, j] = p_value  # Store the p-value\n"
   ]
  }
 ],
 "metadata": {
  "kernelspec": {
   "display_name": "climate",
   "language": "python",
   "name": "python3"
  },
  "language_info": {
   "name": "python",
   "version": "3.13.0"
  }
 },
 "nbformat": 4,
 "nbformat_minor": 2
}
